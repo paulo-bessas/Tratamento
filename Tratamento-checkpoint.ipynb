{
 "cells": [
  {
   "cell_type": "code",
   "execution_count": 1,
   "id": "d5d9abbf",
   "metadata": {},
   "outputs": [],
   "source": [
    "# Carregando os pacotes\n",
    "import pandas as pd\n",
    "import seaborn as sns\n",
    "from matplotlib import pyplot as plt\n",
    "%matplotlib inline\n"
   ]
  },
  {
   "cell_type": "code",
   "execution_count": 2,
   "id": "524c3f89",
   "metadata": {},
   "outputs": [
    {
     "data": {
      "text/html": [
       "<div>\n",
       "<style scoped>\n",
       "    .dataframe tbody tr th:only-of-type {\n",
       "        vertical-align: middle;\n",
       "    }\n",
       "\n",
       "    .dataframe tbody tr th {\n",
       "        vertical-align: top;\n",
       "    }\n",
       "\n",
       "    .dataframe thead th {\n",
       "        text-align: right;\n",
       "    }\n",
       "</style>\n",
       "<table border=\"1\" class=\"dataframe\">\n",
       "  <thead>\n",
       "    <tr style=\"text-align: right;\">\n",
       "      <th></th>\n",
       "      <th>Tratamento</th>\n",
       "      <th>PH</th>\n",
       "      <th>Tempo</th>\n",
       "    </tr>\n",
       "  </thead>\n",
       "  <tbody>\n",
       "    <tr>\n",
       "      <th>0</th>\n",
       "      <td>1</td>\n",
       "      <td>2</td>\n",
       "      <td>426.82</td>\n",
       "    </tr>\n",
       "    <tr>\n",
       "      <th>1</th>\n",
       "      <td>1</td>\n",
       "      <td>2</td>\n",
       "      <td>201.12</td>\n",
       "    </tr>\n",
       "    <tr>\n",
       "      <th>2</th>\n",
       "      <td>1</td>\n",
       "      <td>2</td>\n",
       "      <td>234.58</td>\n",
       "    </tr>\n",
       "    <tr>\n",
       "      <th>3</th>\n",
       "      <td>1</td>\n",
       "      <td>2</td>\n",
       "      <td>306.25</td>\n",
       "    </tr>\n",
       "    <tr>\n",
       "      <th>4</th>\n",
       "      <td>1</td>\n",
       "      <td>1</td>\n",
       "      <td>216.64</td>\n",
       "    </tr>\n",
       "  </tbody>\n",
       "</table>\n",
       "</div>"
      ],
      "text/plain": [
       "   Tratamento  PH   Tempo\n",
       "0           1   2  426.82\n",
       "1           1   2  201.12\n",
       "2           1   2  234.58\n",
       "3           1   2  306.25\n",
       "4           1   1  216.64"
      ]
     },
     "execution_count": 2,
     "metadata": {},
     "output_type": "execute_result"
    }
   ],
   "source": [
    "# Carregando o banco de dados\n",
    "trat = pd.read_csv(r\"D:\\Curso Python\\Tratamento.csv\")\n",
    "trat.head()"
   ]
  },
  {
   "cell_type": "code",
   "execution_count": 3,
   "id": "6e510738",
   "metadata": {},
   "outputs": [
    {
     "data": {
      "text/plain": [
       "(203, 3)"
      ]
     },
     "execution_count": 3,
     "metadata": {},
     "output_type": "execute_result"
    }
   ],
   "source": [
    "# Verificando as dimensões da tabela\n",
    "trat.shape"
   ]
  },
  {
   "cell_type": "code",
   "execution_count": 4,
   "id": "badd7d0e",
   "metadata": {},
   "outputs": [
    {
     "data": {
      "text/plain": [
       "Tratamento    0\n",
       "PH            0\n",
       "Tempo         0\n",
       "dtype: int64"
      ]
     },
     "execution_count": 4,
     "metadata": {},
     "output_type": "execute_result"
    }
   ],
   "source": [
    "# Verificando a existência de dados faltantes\n",
    "trat.isnull().sum()"
   ]
  },
  {
   "cell_type": "code",
   "execution_count": 5,
   "id": "26ef0d66",
   "metadata": {},
   "outputs": [
    {
     "data": {
      "image/png": "[encoded data removed]",
      "text/plain": [
       "<Figure size 576x432 with 1 Axes>"
      ]
     },
     "metadata": {
      "needs_background": "light"
     },
     "output_type": "display_data"
    }
   ],
   "source": [
    "# Distribuição do tempo\n",
    "fig, ax = plt.subplots(figsize=(8,6))\n",
    "h = sns.histplot(data = trat,x = \"Tempo\",kde=True,ax=ax)\n",
    "ax.set_title('Distribuição do Tempo', fontsize= 16,color = 'r')\n",
    "plt.ylabel(\"Frequêcia\", fontsize= 12)\n",
    "plt.xlabel(\"Tempo\", fontsize= 12)\n",
    "plt.show()"
   ]
  },
  {
   "cell_type": "code",
   "execution_count": 6,
   "id": "8f4dc698",
   "metadata": {},
   "outputs": [
    {
     "data": {
      "text/plain": [
       "array([1, 2], dtype=int64)"
      ]
     },
     "execution_count": 6,
     "metadata": {},
     "output_type": "execute_result"
    }
   ],
   "source": [
    "# Verificando os diferentes tipos de tratamento\n",
    "trat[\"Tratamento\"].unique()\n",
    "\n"
   ]
  },
  {
   "cell_type": "code",
   "execution_count": 7,
   "id": "d79e637a",
   "metadata": {},
   "outputs": [
    {
     "data": {
      "text/plain": [
       "array([2, 1], dtype=int64)"
      ]
     },
     "execution_count": 7,
     "metadata": {},
     "output_type": "execute_result"
    }
   ],
   "source": [
    "# Verificando os diferentes tipos de PH (hereditariedade)\n",
    "trat[\"PH\"].unique()\n",
    "\n"
   ]
  },
  {
   "cell_type": "code",
   "execution_count": 8,
   "id": "b05cef2d",
   "metadata": {},
   "outputs": [
    {
     "data": {
      "text/plain": [
       "2     72\n",
       "1    131\n",
       "Name: PH, dtype: int64"
      ]
     },
     "execution_count": 8,
     "metadata": {},
     "output_type": "execute_result"
    }
   ],
   "source": [
    "# Verificando a contagem para os diferentes tipos de hereditariedade\n",
    "trat[\"PH\"].value_counts(ascending=True)\n",
    "\n",
    "# 1 : dominante\n",
    "# 2 : recessivo"
   ]
  },
  {
   "cell_type": "code",
   "execution_count": 9,
   "id": "c14b44fc",
   "metadata": {},
   "outputs": [
    {
     "data": {
      "text/plain": [
       "1     83\n",
       "2    120\n",
       "Name: Tratamento, dtype: int64"
      ]
     },
     "execution_count": 9,
     "metadata": {},
     "output_type": "execute_result"
    }
   ],
   "source": [
    "# Verificando a contagem para os diferentes tipos de tratamento\n",
    "trat[\"Tratamento\"].value_counts(ascending=True)\n",
    "\n",
    "# 1 : com placebo\n",
    "# 2 : sem placebo"
   ]
  },
  {
   "cell_type": "code",
   "execution_count": 10,
   "id": "84ceb23a",
   "metadata": {},
   "outputs": [
    {
     "data": {
      "image/png": "[encoded data removed]",
      "text/plain": [
       "<Figure size 576x432 with 1 Axes>"
      ]
     },
     "metadata": {},
     "output_type": "display_data"
    }
   ],
   "source": [
    "# Qual a proporção de cada tipo de hereditariedade?\n",
    "fig, ax = plt.subplots(figsize=(8,6))\n",
    "plt.pie(trat[\"PH\"].value_counts(ascending=True),labels = trat[\"PH\"].unique(), autopct='%1.1f%%')\n",
    "plt.show()"
   ]
  },
  {
   "cell_type": "code",
   "execution_count": 11,
   "id": "7835f516",
   "metadata": {},
   "outputs": [
    {
     "data": {
      "image/png": "[encoded data removed]",
      "text/plain": [
       "<Figure size 576x432 with 1 Axes>"
      ]
     },
     "metadata": {},
     "output_type": "display_data"
    }
   ],
   "source": [
    "# Qual a proporção para cada tipo de tratamento?\n",
    "fig, ax = plt.subplots(figsize=(8,6))\n",
    "plt.pie(trat[\"Tratamento\"].value_counts(ascending=True),labels = trat[\"Tratamento\"].unique(), autopct='%1.1f%%',\n",
    "colors = ['m','y'])\n",
    "plt.show()\n"
   ]
  },
  {
   "cell_type": "code",
   "execution_count": 12,
   "id": "9b07b6e3",
   "metadata": {},
   "outputs": [
    {
     "data": {
      "text/plain": [
       "Text(0.5, 1.0, 'Tempo por tipo de tratamento')"
      ]
     },
     "execution_count": 12,
     "metadata": {},
     "output_type": "execute_result"
    },
    {
     "data": {
      "image/png": "[encoded data removed]",
      "text/plain": [
       "<Figure size 561.6x432 with 1 Axes>"
      ]
     },
     "metadata": {
      "needs_background": "light"
     },
     "output_type": "display_data"
    }
   ],
   "source": [
    "# Qual a distribuição do tempo para cada tipo de tratamento?\n",
    "box = sns.catplot(x=\"Tratamento\", y=\"Tempo\",data=trat, kind=\"box\",height=6, aspect=1.3)\n",
    "box.ax.xaxis.set_label_text(\"Tratamento\",fontdict= {'size':16})\n",
    "box.ax.yaxis.set_label_text(\"Tempo\", fontdict= {'size':16})\n",
    "box.ax.set_title(\"Tempo por tipo de tratamento\",fontdict= {'size':18},color='r')"
   ]
  },
  {
   "cell_type": "code",
   "execution_count": 13,
   "id": "d8cf55d5",
   "metadata": {},
   "outputs": [
    {
     "data": {
      "text/plain": [
       "Text(0.5, 1.0, 'Tempo por tipo de hereditariedade')"
      ]
     },
     "execution_count": 13,
     "metadata": {},
     "output_type": "execute_result"
    },
    {
     "data": {
      "image/png": "[encoded data removed]",
      "text/plain": [
       "<Figure size 561.6x432 with 1 Axes>"
      ]
     },
     "metadata": {
      "needs_background": "light"
     },
     "output_type": "display_data"
    }
   ],
   "source": [
    "# Qual a distribuição do tempo para cada tipo de hereditariedade?\n",
    "box = sns.catplot(x=\"PH\", y=\"Tempo\",data=trat, kind=\"box\",height=6, aspect=1.3,palette=\"Set3\")\n",
    "box.ax.xaxis.set_label_text(\"Hereditariedade\",fontdict= {'size':16})\n",
    "box.ax.yaxis.set_label_text(\"Tempo\", fontdict= {'size':16})\n",
    "box.ax.set_title(\"Tempo por tipo de hereditariedade\",fontdict= {'size':18},color='r')"
   ]
  }
 ],
 "metadata": {
  "kernelspec": {
   "display_name": "Python 3",
   "language": "python",
   "name": "python3"
  },
  "language_info": {
   "codemirror_mode": {
    "name": "ipython",
    "version": 3
   },
   "file_extension": ".py",
   "mimetype": "text/x-python",
   "name": "python",
   "nbconvert_exporter": "python",
   "pygments_lexer": "ipython3",
   "version": "3.8.8"
  }
 },
 "nbformat": 4,
 "nbformat_minor": 5
}
